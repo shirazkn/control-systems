{
 "cells": [
  {
   "cell_type": "code",
   "execution_count": 13,
   "metadata": {},
   "outputs": [],
   "source": [
    "import numpy as np\n",
    "import matplotlib.pyplot as plt\n",
    "import scipy.stats as stat\n",
    "plt.rcParams['figure.figsize'] = [7, 4]\n",
    "plt.rcParams['figure.dpi'] = 100 \n",
    "g = -9.8"
   ]
  },
  {
   "cell_type": "code",
   "execution_count": 2,
   "metadata": {},
   "outputs": [],
   "source": [
    "dim_state = 6\n",
    "dim_mmt = 2\n",
    "dim_mmt_d = 4\n",
    "\n",
    "x = np.zeros([dim_state, 1])\n",
    "A = np.zeros([dim_state, dim_state], dtype=float)\n",
    "\n",
    "A[0][0] = 0.9\n",
    "A[1][1] = 0.9\n",
    "A[2][2] = 0.9\n",
    "A[0][2] = 0.3\n",
    "A[1][3] = 0.3"
   ]
  },
  {
   "cell_type": "code",
   "execution_count": 3,
   "metadata": {},
   "outputs": [],
   "source": [
    "# dim_state = 12\n",
    "# dim_mmt = 6\n",
    "# dim_mmt_d = 6\n",
    "\n",
    "# x = np.zeros([dim_state, 1])\n",
    "# A = np.zeros([dim_state, dim_state], dtype=float)\n",
    "\n",
    "# A[0,3] = 1\n",
    "# A[1,4] = 1\n",
    "# A[2,5] = 1\n",
    "# A[3,7] = -g\n",
    "# A[4,6] = g\n",
    "# A[5,8] = 0\n",
    "# A[6,9] = 1\n",
    "# A[7,10] = 1\n",
    "# A[8,11] = 1"
   ]
  },
  {
   "cell_type": "code",
   "execution_count": 4,
   "metadata": {},
   "outputs": [],
   "source": [
    "V = np.identity(dim_state)*200\n",
    "W = np.identity(dim_mmt)*4000\n",
    "W_d = np.identity(dim_mmt_d)*2000"
   ]
  },
  {
   "cell_type": "code",
   "execution_count": 5,
   "metadata": {},
   "outputs": [],
   "source": [
    "C_d = np.block([np.identity(dim_mmt_d), np.zeros([dim_mmt_d, dim_mmt])])\n",
    "C = np.block([np.zeros([dim_mmt, dim_mmt_d]), np.identity(dim_mmt)])\n",
    "Gamma = np.identity(dim_mmt_d)\n",
    "C_d[2][2] = 0.0\n",
    "C[1][1] = 0.0"
   ]
  },
  {
   "cell_type": "code",
   "execution_count": 22,
   "metadata": {},
   "outputs": [
    {
     "ename": "AttributeError",
     "evalue": "'float' object has no attribute 'rvs'",
     "output_type": "error",
     "traceback": [
      "\u001b[0;31m---------------------------------------------------------------------------\u001b[0m",
      "\u001b[0;31mAttributeError\u001b[0m                            Traceback (most recent call last)",
      "\u001b[0;32m<ipython-input-22-6a81b19a07ef>\u001b[0m in \u001b[0;36m<module>\u001b[0;34m\u001b[0m\n\u001b[1;32m     20\u001b[0m \u001b[0;34m\u001b[0m\u001b[0m\n\u001b[1;32m     21\u001b[0m     \u001b[0mw\u001b[0m \u001b[0;34m=\u001b[0m \u001b[0mnp\u001b[0m\u001b[0;34m.\u001b[0m\u001b[0mrandom\u001b[0m\u001b[0;34m.\u001b[0m\u001b[0mrandom\u001b[0m\u001b[0;34m(\u001b[0m\u001b[0;34m)\u001b[0m\u001b[0;34m\u001b[0m\u001b[0;34m\u001b[0m\u001b[0m\n\u001b[0;32m---> 22\u001b[0;31m     \u001b[0my\u001b[0m \u001b[0;34m=\u001b[0m \u001b[0mC\u001b[0m\u001b[0;34m@\u001b[0m\u001b[0mx\u001b[0m \u001b[0;34m+\u001b[0m \u001b[0mw\u001b[0m\u001b[0;34m.\u001b[0m\u001b[0mrvs\u001b[0m\u001b[0;34m(\u001b[0m\u001b[0;34m)\u001b[0m\u001b[0;34m\u001b[0m\u001b[0;34m\u001b[0m\u001b[0m\n\u001b[0m\u001b[1;32m     23\u001b[0m \u001b[0;34m\u001b[0m\u001b[0m\n\u001b[1;32m     24\u001b[0m     \u001b[0mx\u001b[0m \u001b[0;34m=\u001b[0m \u001b[0mA\u001b[0m\u001b[0;34m@\u001b[0m\u001b[0mx\u001b[0m \u001b[0;34m+\u001b[0m \u001b[0mv\u001b[0m\u001b[0;34m.\u001b[0m\u001b[0mrvs\u001b[0m\u001b[0;34m(\u001b[0m\u001b[0;34m)\u001b[0m\u001b[0;34m\u001b[0m\u001b[0;34m\u001b[0m\u001b[0m\n",
      "\u001b[0;31mAttributeError\u001b[0m: 'float' object has no attribute 'rvs'"
     ]
    }
   ],
   "source": [
    "N = 5\n",
    "duration = 30\n",
    "\n",
    "x_bar = np.zeros([dim_state, 1])\n",
    "x_hat = A @ x\n",
    "P = np.identity(dim_state)*2000.0\n",
    "M = np.identity(dim_state)\n",
    "\n",
    "v = stat.multivariate_normal(cov=V)\n",
    "w = stat.multivariate_normal(cov=W)\n",
    "w_d = stat.multivariate_normal(cov=W_d)\n",
    "\n",
    "x_vals = []\n",
    "y_vals = []\n",
    "for k in range(duration):\n",
    "    K = P @ C.T @ np.linalg.inv(W + C @ P @ C.T)\n",
    "    F = np.identity(dim_state) - K@C\n",
    "    M = F@P@F.T + K@W@K.T\n",
    "    P = A@M@A.T + V\n",
    "    \n",
    "    x = A@x + v.rvs()\n",
    "    y = C@x + w.rvs()\n",
    "    x_hat = A@x_hat + K@(y - C@A@x_hat)\n",
    "    \n",
    "    if not k%N:\n",
    "        x_vals.append(k)\n",
    "        y_vals.append(np.trace(M))\n",
    "        \n",
    "        y_d = C_d @ x + w_d.rvs()\n",
    "        x_hat = x_hat + K_d @ (y_d - C@x_hat)\n",
    "        a = np.zeros([dim_mmt_d, 1])\n",
    "        \n",
    "        K_d = M @ C_d.T @ np.linalg.inv(W_d + C_d @ M @ C_d.T)\n",
    "        F_d = np.identity(dim_state) - K_d @ C_d\n",
    "        M = F_d @ M @ F_d.T + K_d @ W_d @ K_d.T \\\n",
    "        + K_d @ Gamma @ a @ a.T @ Gamma.T @K_d.T\n",
    "    \n",
    "    P = A@M@A.T + V\n",
    "    x_vals.append(k)\n",
    "    y_vals.append(np.trace(M))"
   ]
  },
  {
   "cell_type": "code",
   "execution_count": 7,
   "metadata": {},
   "outputs": [
    {
     "data": {
      "image/png": "[encoded data removed]",
      "text/plain": [
       "<Figure size 432x288 with 1 Axes>"
      ]
     },
     "metadata": {
      "needs_background": "light"
     },
     "output_type": "display_data"
    }
   ],
   "source": [
    "from matplotlib import pyplot as plt\n",
    "from scipy.interpolate import interp1d\n",
    "plt.plot(y_vals)\n",
    "\n",
    "x_vals_lenv = []\n",
    "y_vals_lenv = []\n",
    "x_vals_uenv = [0]\n",
    "y_vals_uenv = [0]\n",
    "for k in range(duration):\n",
    "    if not k%N:\n",
    "        x_vals_lenv.append(k)\n",
    "        y_vals_lenv.append(y_vals[k])\n",
    "        if k>0:\n",
    "            x_vals_uenv.append(k-1)\n",
    "            y_vals_uenv.append(y_vals[k-1])\n",
    "\n",
    "uenvelope = interp1d(x_vals_uenv, y_vals_uenv, kind=\"quadratic\")\n",
    "lenvelope = interp1d(x_vals_lenv, y_vals_lenv, kind=\"quadratic\")\n",
    "x_vals_interp_lenv = np.linspace(0, x_vals_lenv[-1], num=200)\n",
    "x_vals_interp_uenv = np.linspace(0, x_vals_uenv[-1], num=200)\n",
    "#plt.plot(x_vals_interp_lenv, lenvelope(x_vals_interp_lenv), '--')\n",
    "#plt.plot(x_vals_interp_uenv, uenvelope(x_vals_interp_uenv), '--')\n",
    "plt.show()"
   ]
  },
  {
   "cell_type": "code",
   "execution_count": 8,
   "metadata": {},
   "outputs": [
    {
     "data": {
      "text/plain": [
       "scipy.interpolate.interpolate.interp1d"
      ]
     },
     "execution_count": 8,
     "metadata": {},
     "output_type": "execute_result"
    }
   ],
   "source": [
    "interp1d"
   ]
  },
  {
   "cell_type": "code",
   "execution_count": 9,
   "metadata": {},
   "outputs": [
    {
     "data": {
      "text/plain": [
       "array([0.9, 0.9, 0.9, 0. , 0. , 0. ])"
      ]
     },
     "execution_count": 9,
     "metadata": {},
     "output_type": "execute_result"
    }
   ],
   "source": [
    "np.linalg.eig(A)[0]"
   ]
  },
  {
   "cell_type": "code",
   "execution_count": 15,
   "metadata": {},
   "outputs": [],
   "source": [
    "\n"
   ]
  },
  {
   "cell_type": "code",
   "execution_count": 20,
   "metadata": {},
   "outputs": [
    {
     "data": {
      "text/plain": [
       "array([-12.35174402, -51.62668761])"
      ]
     },
     "execution_count": 20,
     "metadata": {},
     "output_type": "execute_result"
    }
   ],
   "source": []
  },
  {
   "cell_type": "code",
   "execution_count": null,
   "metadata": {},
   "outputs": [],
   "source": []
  }
 ],
 "metadata": {
  "kernelspec": {
   "display_name": "Python 3",
   "language": "python",
   "name": "python3"
  },
  "language_info": {
   "codemirror_mode": {
    "name": "ipython",
    "version": 3
   },
   "file_extension": ".py",
   "mimetype": "text/x-python",
   "name": "python",
   "nbconvert_exporter": "python",
   "pygments_lexer": "ipython3",
   "version": "3.8.0"
  }
 },
 "nbformat": 4,
 "nbformat_minor": 2
}
